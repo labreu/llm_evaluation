{
 "cells": [
  {
   "cell_type": "code",
   "execution_count": 1,
   "metadata": {},
   "outputs": [
    {
     "name": "stdout",
     "output_type": "stream",
     "text": [
      "Requirement already satisfied: weave in c:\\users\\lucasabreu\\anaconda3\\lib\\site-packages (0.51.10)"
     ]
    },
    {
     "name": "stderr",
     "output_type": "stream",
     "text": [
      "WARNING: Ignoring invalid distribution -illow (c:\\users\\lucasabreu\\appdata\\roaming\\python\\python39\\site-packages)\n",
      "WARNING: Ignoring invalid distribution -illow (c:\\users\\lucasabreu\\appdata\\roaming\\python\\python39\\site-packages)\n",
      "WARNING: Ignoring invalid distribution -illow (c:\\users\\lucasabreu\\appdata\\roaming\\python\\python39\\site-packages)\n",
      "WARNING: Ignoring invalid distribution -illow (c:\\users\\lucasabreu\\appdata\\roaming\\python\\python39\\site-packages)\n",
      "WARNING: Ignoring invalid distribution -illow (c:\\users\\lucasabreu\\appdata\\roaming\\python\\python39\\site-packages)\n",
      "WARNING: Ignoring invalid distribution -illow (c:\\users\\lucasabreu\\appdata\\roaming\\python\\python39\\site-packages)\n",
      "\n",
      "[notice] A new release of pip is available: 23.0.1 -> 24.2"
     ]
    },
    {
     "name": "stdout",
     "output_type": "stream",
     "text": [
      "\n",
      "Requirement already satisfied: openai>=1.0.0 in c:\\users\\lucasabreu\\anaconda3\\lib\\site-packages (from weave) (1.42.0)\n",
      "Requirement already satisfied: tiktoken>=0.4.0 in c:\\users\\lucasabreu\\anaconda3\\lib\\site-packages (from weave) (0.5.2)\n",
      "Requirement already satisfied: wandb>=0.17.1 in c:\\users\\lucasabreu\\anaconda3\\lib\\site-packages (from weave) (0.18.1)\n",
      "Requirement already satisfied: emoji>=2.12.1 in c:\\users\\lucasabreu\\anaconda3\\lib\\site-packages (from weave) (2.13.2)\n",
      "Requirement already satisfied: numpy<2.0.0 in c:\\users\\lucasabreu\\anaconda3\\lib\\site-packages (from weave) (1.24.3)\n",
      "Requirement already satisfied: aiofiles>=22.1.0 in c:\\users\\lucasabreu\\anaconda3\\lib\\site-packages (from weave) (24.1.0)\n",
      "Requirement already satisfied: python-json-logger>=2.0.4 in c:\\users\\lucasabreu\\appdata\\roaming\\python\\python39\\site-packages (from weave) (2.0.7)\n",
      "Requirement already satisfied: aioprocessing>=2.0.1 in c:\\users\\lucasabreu\\anaconda3\\lib\\site-packages (from weave) (2.0.1)\n",
      "Requirement already satisfied: uuid-utils>=0.9.0 in c:\\users\\lucasabreu\\anaconda3\\lib\\site-packages (from weave) (0.9.0)\n",
      "Requirement already satisfied: python-dateutil>=2.8.2 in c:\\users\\lucasabreu\\anaconda3\\lib\\site-packages (from weave) (2.8.2)\n",
      "Requirement already satisfied: packaging>=21.0 in c:\\users\\lucasabreu\\anaconda3\\lib\\site-packages (from weave) (23.2)\n",
      "Requirement already satisfied: Werkzeug>=3.0.3 in c:\\users\\lucasabreu\\anaconda3\\lib\\site-packages (from weave) (3.0.4)\n",
      "Requirement already satisfied: tenacity!=8.4.0,>=8.3.0 in c:\\users\\lucasabreu\\anaconda3\\lib\\site-packages (from weave) (9.0.0)\n",
      "Requirement already satisfied: analytics-python>=1.2.9 in c:\\users\\lucasabreu\\anaconda3\\lib\\site-packages (from weave) (1.2.9)\n",
      "Requirement already satisfied: typing-extensions>=4.0.0 in c:\\users\\lucasabreu\\anaconda3\\lib\\site-packages (from weave) (4.12.2)\n",
      "Requirement already satisfied: janus>=1.0.0 in c:\\users\\lucasabreu\\anaconda3\\lib\\site-packages (from weave) (1.0.0)\n",
      "Requirement already satisfied: gql[requests]>=3.4.1 in c:\\users\\lucasabreu\\anaconda3\\lib\\site-packages (from weave) (3.5.0)\n",
      "Requirement already satisfied: rich>=13.7.0 in c:\\users\\lucasabreu\\anaconda3\\lib\\site-packages (from weave) (13.7.1)\n",
      "Requirement already satisfied: pyarrow<17.0.0,>=14.0.1 in c:\\users\\lucasabreu\\anaconda3\\lib\\site-packages (from weave) (16.1.0)\n",
      "Requirement already satisfied: aiohttp>=3.8.3 in c:\\users\\lucasabreu\\anaconda3\\lib\\site-packages (from weave) (3.8.5)\n",
      "Requirement already satisfied: pydantic>=2.0.0 in c:\\users\\lucasabreu\\anaconda3\\lib\\site-packages (from weave) (2.8.2)\n",
      "Requirement already satisfied: graphql-core>3 in c:\\users\\lucasabreu\\anaconda3\\lib\\site-packages (from weave) (3.2.4)\n",
      "Requirement already satisfied: async-timeout<5.0,>=4.0.0a3 in c:\\users\\lucasabreu\\anaconda3\\lib\\site-packages (from aiohttp>=3.8.3->weave) (4.0.2)\n",
      "Requirement already satisfied: yarl<2.0,>=1.0 in c:\\users\\lucasabreu\\appdata\\roaming\\python\\python39\\site-packages (from aiohttp>=3.8.3->weave) (1.9.2)\n",
      "Requirement already satisfied: charset-normalizer<4.0,>=2.0 in c:\\users\\lucasabreu\\anaconda3\\lib\\site-packages (from aiohttp>=3.8.3->weave) (3.3.2)\n",
      "Requirement already satisfied: multidict<7.0,>=4.5 in c:\\users\\lucasabreu\\appdata\\roaming\\python\\python39\\site-packages (from aiohttp>=3.8.3->weave) (6.0.4)\n",
      "Requirement already satisfied: attrs>=17.3.0 in c:\\users\\lucasabreu\\appdata\\roaming\\python\\python39\\site-packages (from aiohttp>=3.8.3->weave) (23.1.0)\n",
      "Requirement already satisfied: frozenlist>=1.1.1 in c:\\users\\lucasabreu\\anaconda3\\lib\\site-packages (from aiohttp>=3.8.3->weave) (1.2.0)\n",
      "Requirement already satisfied: aiosignal>=1.1.2 in c:\\users\\lucasabreu\\appdata\\roaming\\python\\python39\\site-packages (from aiohttp>=3.8.3->weave) (1.3.1)\n",
      "Requirement already satisfied: requests<3.0,>=2.7 in c:\\users\\lucasabreu\\appdata\\roaming\\python\\python39\\site-packages (from analytics-python>=1.2.9->weave) (2.31.0)\n",
      "Requirement already satisfied: six>=1.5 in c:\\users\\lucasabreu\\anaconda3\\lib\\site-packages (from analytics-python>=1.2.9->weave) (1.16.0)\n",
      "Requirement already satisfied: backoff<3.0,>=1.11.1 in c:\\users\\lucasabreu\\anaconda3\\lib\\site-packages (from gql[requests]>=3.4.1->weave) (2.2.1)\n",
      "Requirement already satisfied: anyio<5,>=3.0 in c:\\users\\lucasabreu\\anaconda3\\lib\\site-packages (from gql[requests]>=3.4.1->weave) (3.7.1)\n",
      "Requirement already satisfied: requests-toolbelt<2,>=1.0.0 in c:\\users\\lucasabreu\\anaconda3\\lib\\site-packages (from gql[requests]>=3.4.1->weave) (1.0.0)\n"
     ]
    },
    {
     "name": "stderr",
     "output_type": "stream",
     "text": [
      "\n",
      "[notice] To update, run: python.exe -m pip install --upgrade pip\n"
     ]
    }
   ],
   "source": [
    "!pip install weave"
   ]
  },
  {
   "cell_type": "code",
   "execution_count": 2,
   "metadata": {},
   "outputs": [],
   "source": [
    "import json\n",
    "import asyncio\n",
    "import weave\n",
    "from weave.flow.scorer import MultiTaskBinaryClassificationF1\n",
    "import openai\n",
    "import pandas as pd"
   ]
  },
  {
   "cell_type": "markdown",
   "metadata": {},
   "source": [
    "# Training set"
   ]
  },
  {
   "cell_type": "code",
   "execution_count": 24,
   "metadata": {},
   "outputs": [
    {
     "data": {
      "text/html": [
       "<div>\n",
       "<style scoped>\n",
       "    .dataframe tbody tr th:only-of-type {\n",
       "        vertical-align: middle;\n",
       "    }\n",
       "\n",
       "    .dataframe tbody tr th {\n",
       "        vertical-align: top;\n",
       "    }\n",
       "\n",
       "    .dataframe thead th {\n",
       "        text-align: right;\n",
       "    }\n",
       "</style>\n",
       "<table border=\"1\" class=\"dataframe\">\n",
       "  <thead>\n",
       "    <tr style=\"text-align: right;\">\n",
       "      <th></th>\n",
       "      <th>sentence</th>\n",
       "      <th>target</th>\n",
       "    </tr>\n",
       "  </thead>\n",
       "  <tbody>\n",
       "    <tr>\n",
       "      <th>0</th>\n",
       "      <td>There are many fruits that were found on the r...</td>\n",
       "      <td>{'fruit': 'neoskizzles', 'color': 'purple', 'f...</td>\n",
       "    </tr>\n",
       "    <tr>\n",
       "      <th>1</th>\n",
       "      <td>Pounits are a bright green color and are more ...</td>\n",
       "      <td>{'fruit': 'pounits', 'color': 'bright green', ...</td>\n",
       "    </tr>\n",
       "    <tr>\n",
       "      <th>2</th>\n",
       "      <td>Finally, there are fruits called glowls, which...</td>\n",
       "      <td>{'fruit': 'glowls', 'color': 'pale orange', 'f...</td>\n",
       "    </tr>\n",
       "  </tbody>\n",
       "</table>\n",
       "</div>"
      ],
      "text/plain": [
       "                                            sentence  \\\n",
       "0  There are many fruits that were found on the r...   \n",
       "1  Pounits are a bright green color and are more ...   \n",
       "2  Finally, there are fruits called glowls, which...   \n",
       "\n",
       "                                              target  \n",
       "0  {'fruit': 'neoskizzles', 'color': 'purple', 'f...  \n",
       "1  {'fruit': 'pounits', 'color': 'bright green', ...  \n",
       "2  {'fruit': 'glowls', 'color': 'pale orange', 'f...  "
      ]
     },
     "execution_count": 24,
     "metadata": {},
     "output_type": "execute_result"
    }
   ],
   "source": [
    "sentences = [\n",
    "    \"There are many fruits that were found on the recently discovered planet Goocrux. There are neoskizzles that grow there, which are purple and taste like candy.\",\n",
    "    \"Pounits are a bright green color and are more savory than sweet.\",\n",
    "    \"Finally, there are fruits called glowls, which have a very sour and bitter taste which is acidic and caustic, and a pale orange tinge to them.\"\n",
    "]\n",
    "\n",
    "labels = [\n",
    "    {'fruit': 'neoskizzles', 'color': 'purple', 'flavor': 'candy'},\n",
    "    {'fruit': 'pounits', 'color': 'bright green', 'flavor': 'savory'},\n",
    "    {'fruit': 'glowls', 'color': 'pale orange', 'flavor': 'sour and bitter'}\n",
    "]\n",
    "\n",
    "\n",
    "df = pd.DataFrame({'sentence': sentences, 'target': labels})\n",
    "df.head()"
   ]
  },
  {
   "cell_type": "code",
   "execution_count": 25,
   "metadata": {},
   "outputs": [
    {
     "data": {
      "text/plain": [
       "[{'id': 0,\n",
       "  'sentence': 'There are many fruits that were found on the recently discovered planet Goocrux. There are neoskizzles that grow there, which are purple and taste like candy.',\n",
       "  'target': {'fruit': 'neoskizzles', 'color': 'purple', 'flavor': 'candy'}},\n",
       " {'id': 1,\n",
       "  'sentence': 'Pounits are a bright green color and are more savory than sweet.',\n",
       "  'target': {'fruit': 'pounits', 'color': 'bright green', 'flavor': 'savory'}},\n",
       " {'id': 2,\n",
       "  'sentence': 'Finally, there are fruits called glowls, which have a very sour and bitter taste which is acidic and caustic, and a pale orange tinge to them.',\n",
       "  'target': {'fruit': 'glowls',\n",
       "   'color': 'pale orange',\n",
       "   'flavor': 'sour and bitter'}}]"
      ]
     },
     "execution_count": 25,
     "metadata": {},
     "output_type": "execute_result"
    }
   ],
   "source": [
    "examples = df.reset_index().rename(columns={'index': 'id'}).to_dict(orient='records')\n",
    "examples"
   ]
  },
  {
   "cell_type": "code",
   "execution_count": 26,
   "metadata": {},
   "outputs": [],
   "source": [
    "class ExtractFruitsModel(weave.Model):\n",
    "    model_name: str\n",
    "    prompt_template: str\n",
    "\n",
    "    @weave.op()\n",
    "    async def predict(self, sentence: str) -> dict:\n",
    "        client = openai.AsyncClient()\n",
    "\n",
    "        response = await client.chat.completions.create(\n",
    "            model=self.model_name,\n",
    "            messages=[\n",
    "                {\"role\": \"user\", \"content\": self.prompt_template.format(sentence=sentence)}\n",
    "            ],\n",
    "            response_format={ \"type\": \"json_object\" }\n",
    "        )\n",
    "        result = response.choices[0].message.content\n",
    "        if result is None:\n",
    "            raise ValueError(\"No response from model\")\n",
    "        parsed = json.loads(result)\n",
    "        return parsed\n"
   ]
  },
  {
   "cell_type": "code",
   "execution_count": 27,
   "metadata": {},
   "outputs": [],
   "source": [
    "weave.init('intro-example')\n",
    "\n",
    "prompt = 'Extract fields (\"fruit\": <str>, \"color\": <str>, \"flavor\") from the following text, as json: {sentence}'\n",
    "\n",
    "# We create our model with our system prompt.\n",
    "model = ExtractFruitsModel(name='gpt4',\n",
    "                           model_name='gpt-4-0125-preview',\n",
    "                           prompt_template=prompt)\n",
    "\n"
   ]
  },
  {
   "cell_type": "code",
   "execution_count": 28,
   "metadata": {},
   "outputs": [
    {
     "name": "stdout",
     "output_type": "stream",
     "text": [
      "🍩 https://wandb.ai/lucasribeiroabreu-/intro-example/r/call/0192352a-55c3-7d83-99e5-99ea097470b4\n"
     ]
    },
    {
     "data": {
      "text/plain": [
       "{'fruit': 'strawberry', 'color': 'red', 'flavor': 'delicious'}"
      ]
     },
     "execution_count": 28,
     "metadata": {},
     "output_type": "execute_result"
    }
   ],
   "source": [
    "r = await model.predict('strawberry is a delicious healthy red option that tastes delicious')\n",
    "r"
   ]
  },
  {
   "cell_type": "code",
   "execution_count": 29,
   "metadata": {},
   "outputs": [],
   "source": [
    "# We define a scoring functions to compare our model predictions with a ground truth label.\n",
    "\n",
    "@weave.op()\n",
    "def fruit_name_score(target: dict, model_output: dict) -> dict:\n",
    "    return {'correct': target['fruit'] == model_output['fruit']}"
   ]
  },
  {
   "cell_type": "code",
   "execution_count": 33,
   "metadata": {},
   "outputs": [
    {
     "name": "stdout",
     "output_type": "stream",
     "text": [
      "🍩 https://wandb.ai/lucasribeiroabreu-/intro-example/r/call/0192352b-754b-7f01-8c7b-3737764162fc\n"
     ]
    },
    {
     "data": {
      "text/plain": [
       "{'correct': False}"
      ]
     },
     "execution_count": 33,
     "metadata": {},
     "output_type": "execute_result"
    }
   ],
   "source": [
    "fruit_name_score(examples[0]['target'], r)"
   ]
  },
  {
   "cell_type": "code",
   "execution_count": 30,
   "metadata": {},
   "outputs": [
    {
     "data": {
      "text/html": [
       "<pre style=\"white-space:pre;overflow-x:auto;line-height:normal;font-family:Menlo,'DejaVu Sans Mono',consolas,'Courier New',monospace\">Evaluated <span style=\"color: #008080; text-decoration-color: #008080; font-weight: bold\">1</span> of <span style=\"color: #008080; text-decoration-color: #008080; font-weight: bold\">3</span> examples\n",
       "</pre>\n"
      ],
      "text/plain": [
       "Evaluated \u001b[1;36m1\u001b[0m of \u001b[1;36m3\u001b[0m examples\n"
      ]
     },
     "metadata": {},
     "output_type": "display_data"
    },
    {
     "data": {
      "text/html": [
       "<pre style=\"white-space:pre;overflow-x:auto;line-height:normal;font-family:Menlo,'DejaVu Sans Mono',consolas,'Courier New',monospace\">Evaluated <span style=\"color: #008080; text-decoration-color: #008080; font-weight: bold\">2</span> of <span style=\"color: #008080; text-decoration-color: #008080; font-weight: bold\">3</span> examples\n",
       "</pre>\n"
      ],
      "text/plain": [
       "Evaluated \u001b[1;36m2\u001b[0m of \u001b[1;36m3\u001b[0m examples\n"
      ]
     },
     "metadata": {},
     "output_type": "display_data"
    },
    {
     "data": {
      "text/html": [
       "<pre style=\"white-space:pre;overflow-x:auto;line-height:normal;font-family:Menlo,'DejaVu Sans Mono',consolas,'Courier New',monospace\">Evaluated <span style=\"color: #008080; text-decoration-color: #008080; font-weight: bold\">3</span> of <span style=\"color: #008080; text-decoration-color: #008080; font-weight: bold\">3</span> examples\n",
       "</pre>\n"
      ],
      "text/plain": [
       "Evaluated \u001b[1;36m3\u001b[0m of \u001b[1;36m3\u001b[0m examples\n"
      ]
     },
     "metadata": {},
     "output_type": "display_data"
    },
    {
     "data": {
      "text/html": [
       "<pre style=\"white-space:pre;overflow-x:auto;line-height:normal;font-family:Menlo,'DejaVu Sans Mono',consolas,'Courier New',monospace\">Evaluation summary\n",
       "<span style=\"font-weight: bold\">{</span>\n",
       "    <span style=\"color: #008000; text-decoration-color: #008000\">'MultiTaskBinaryClassificationF1'</span>: <span style=\"font-weight: bold\">{</span>\n",
       "        <span style=\"color: #008000; text-decoration-color: #008000\">'fruit'</span>: <span style=\"font-weight: bold\">{</span><span style=\"color: #008000; text-decoration-color: #008000\">'f1'</span>: <span style=\"color: #008080; text-decoration-color: #008080; font-weight: bold\">0.8</span>, <span style=\"color: #008000; text-decoration-color: #008000\">'precision'</span>: <span style=\"color: #008080; text-decoration-color: #008080; font-weight: bold\">0.6666666666666666</span>, <span style=\"color: #008000; text-decoration-color: #008000\">'recall'</span>: <span style=\"color: #008080; text-decoration-color: #008080; font-weight: bold\">1.0</span><span style=\"font-weight: bold\">}</span>,\n",
       "        <span style=\"color: #008000; text-decoration-color: #008000\">'color'</span>: <span style=\"font-weight: bold\">{</span><span style=\"color: #008000; text-decoration-color: #008000\">'f1'</span>: <span style=\"color: #008080; text-decoration-color: #008080; font-weight: bold\">1.0</span>, <span style=\"color: #008000; text-decoration-color: #008000\">'precision'</span>: <span style=\"color: #008080; text-decoration-color: #008080; font-weight: bold\">1.0</span>, <span style=\"color: #008000; text-decoration-color: #008000\">'recall'</span>: <span style=\"color: #008080; text-decoration-color: #008080; font-weight: bold\">1.0</span><span style=\"font-weight: bold\">}</span>,\n",
       "        <span style=\"color: #008000; text-decoration-color: #008000\">'flavor'</span>: <span style=\"font-weight: bold\">{</span><span style=\"color: #008000; text-decoration-color: #008000\">'f1'</span>: <span style=\"color: #008080; text-decoration-color: #008080; font-weight: bold\">0.8</span>, <span style=\"color: #008000; text-decoration-color: #008000\">'precision'</span>: <span style=\"color: #008080; text-decoration-color: #008080; font-weight: bold\">0.6666666666666666</span>, <span style=\"color: #008000; text-decoration-color: #008000\">'recall'</span>: <span style=\"color: #008080; text-decoration-color: #008080; font-weight: bold\">1.0</span><span style=\"font-weight: bold\">}</span>\n",
       "    <span style=\"font-weight: bold\">}</span>,\n",
       "    <span style=\"color: #008000; text-decoration-color: #008000\">'fruit_name_score'</span>: <span style=\"font-weight: bold\">{</span><span style=\"color: #008000; text-decoration-color: #008000\">'correct'</span>: <span style=\"font-weight: bold\">{</span><span style=\"color: #008000; text-decoration-color: #008000\">'true_count'</span>: <span style=\"color: #008080; text-decoration-color: #008080; font-weight: bold\">2</span>, <span style=\"color: #008000; text-decoration-color: #008000\">'true_fraction'</span>: <span style=\"color: #008080; text-decoration-color: #008080; font-weight: bold\">0.6666666666666666</span><span style=\"font-weight: bold\">}}</span>,\n",
       "    <span style=\"color: #008000; text-decoration-color: #008000\">'model_latency'</span>: <span style=\"font-weight: bold\">{</span><span style=\"color: #008000; text-decoration-color: #008000\">'mean'</span>: <span style=\"color: #008080; text-decoration-color: #008080; font-weight: bold\">1.8662765820821126</span><span style=\"font-weight: bold\">}</span>\n",
       "<span style=\"font-weight: bold\">}</span>\n",
       "</pre>\n"
      ],
      "text/plain": [
       "Evaluation summary\n",
       "\u001b[1m{\u001b[0m\n",
       "    \u001b[32m'MultiTaskBinaryClassificationF1'\u001b[0m: \u001b[1m{\u001b[0m\n",
       "        \u001b[32m'fruit'\u001b[0m: \u001b[1m{\u001b[0m\u001b[32m'f1'\u001b[0m: \u001b[1;36m0.8\u001b[0m, \u001b[32m'precision'\u001b[0m: \u001b[1;36m0.6666666666666666\u001b[0m, \u001b[32m'recall'\u001b[0m: \u001b[1;36m1.0\u001b[0m\u001b[1m}\u001b[0m,\n",
       "        \u001b[32m'color'\u001b[0m: \u001b[1m{\u001b[0m\u001b[32m'f1'\u001b[0m: \u001b[1;36m1.0\u001b[0m, \u001b[32m'precision'\u001b[0m: \u001b[1;36m1.0\u001b[0m, \u001b[32m'recall'\u001b[0m: \u001b[1;36m1.0\u001b[0m\u001b[1m}\u001b[0m,\n",
       "        \u001b[32m'flavor'\u001b[0m: \u001b[1m{\u001b[0m\u001b[32m'f1'\u001b[0m: \u001b[1;36m0.8\u001b[0m, \u001b[32m'precision'\u001b[0m: \u001b[1;36m0.6666666666666666\u001b[0m, \u001b[32m'recall'\u001b[0m: \u001b[1;36m1.0\u001b[0m\u001b[1m}\u001b[0m\n",
       "    \u001b[1m}\u001b[0m,\n",
       "    \u001b[32m'fruit_name_score'\u001b[0m: \u001b[1m{\u001b[0m\u001b[32m'correct'\u001b[0m: \u001b[1m{\u001b[0m\u001b[32m'true_count'\u001b[0m: \u001b[1;36m2\u001b[0m, \u001b[32m'true_fraction'\u001b[0m: \u001b[1;36m0.6666666666666666\u001b[0m\u001b[1m}\u001b[0m\u001b[1m}\u001b[0m,\n",
       "    \u001b[32m'model_latency'\u001b[0m: \u001b[1m{\u001b[0m\u001b[32m'mean'\u001b[0m: \u001b[1;36m1.8662765820821126\u001b[0m\u001b[1m}\u001b[0m\n",
       "\u001b[1m}\u001b[0m\n"
      ]
     },
     "metadata": {},
     "output_type": "display_data"
    },
    {
     "name": "stdout",
     "output_type": "stream",
     "text": [
      "🍩 https://wandb.ai/lucasribeiroabreu-/intro-example/r/call/0192352a-741b-7521-b845-7d13cf0461db\n"
     ]
    },
    {
     "data": {
      "text/plain": [
       "{'MultiTaskBinaryClassificationF1': {'fruit': {'f1': 0.8,\n",
       "   'precision': 0.6666666666666666,\n",
       "   'recall': 1.0},\n",
       "  'color': {'f1': 1.0, 'precision': 1.0, 'recall': 1.0},\n",
       "  'flavor': {'f1': 0.8, 'precision': 0.6666666666666666, 'recall': 1.0}},\n",
       " 'fruit_name_score': {'correct': {'true_count': 2,\n",
       "   'true_fraction': 0.6666666666666666}},\n",
       " 'model_latency': {'mean': 1.8662765820821126}}"
      ]
     },
     "execution_count": 30,
     "metadata": {},
     "output_type": "execute_result"
    }
   ],
   "source": [
    "# Finally, we run an evaluation of this model.\n",
    "# This will generate a prediction for each input example, and then score it with each scoring function.\n",
    "evaluation = weave.Evaluation(\n",
    "    name='fruit_eval',\n",
    "    dataset=examples, scorers=[MultiTaskBinaryClassificationF1(class_names=[\"fruit\", \"color\", \"flavor\"]), fruit_name_score],\n",
    ")\n",
    "\n",
    "await evaluation.evaluate(model)"
   ]
  },
  {
   "cell_type": "code",
   "execution_count": null,
   "metadata": {},
   "outputs": [],
   "source": []
  }
 ],
 "metadata": {
  "kernelspec": {
   "display_name": "Python 3",
   "language": "python",
   "name": "python3"
  },
  "language_info": {
   "codemirror_mode": {
    "name": "ipython",
    "version": 3
   },
   "file_extension": ".py",
   "mimetype": "text/x-python",
   "name": "python",
   "nbconvert_exporter": "python",
   "pygments_lexer": "ipython3",
   "version": "3.9.12"
  }
 },
 "nbformat": 4,
 "nbformat_minor": 2
}
